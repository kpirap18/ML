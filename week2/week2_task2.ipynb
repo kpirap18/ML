{
 "cells": [
  {
   "cell_type": "code",
   "execution_count": 12,
   "id": "disturbed-phone",
   "metadata": {},
   "outputs": [],
   "source": [
    "import pandas\n",
    "import numpy as np\n",
    "from sklearn.model_selection import KFold\n",
    "from sklearn.model_selection import cross_val_score\n",
    "from sklearn.preprocessing import scale\n",
    "from sklearn.neighbors import KNeighborsRegressor\n",
    "from sklearn.datasets import load_boston\n"
   ]
  },
  {
   "cell_type": "code",
   "execution_count": 13,
   "id": "worldwide-bible",
   "metadata": {},
   "outputs": [],
   "source": [
    "# Загрузите выборку Boston с помощью функции sklearn.datasets.load_boston().\n",
    "# Результатом вызова данной функции является объект, у которого\n",
    "# признаки записаны в поле data, а целевой вектор — в поле target.\n",
    "boston = load_boston()"
   ]
  },
  {
   "cell_type": "code",
   "execution_count": 16,
   "id": "arctic-belarus",
   "metadata": {},
   "outputs": [],
   "source": [
    "data = pandas.DataFrame(data=boston.data, columns=boston.feature_names)\n",
    "target = pandas.DataFrame(data=boston.target)"
   ]
  },
  {
   "cell_type": "code",
   "execution_count": 19,
   "id": "informative-theory",
   "metadata": {},
   "outputs": [],
   "source": [
    "kf = KFold(n_splits = 5, shuffle=True, random_state=42)"
   ]
  },
  {
   "cell_type": "code",
   "execution_count": 20,
   "id": "similar-smell",
   "metadata": {},
   "outputs": [],
   "source": [
    "data = scale(data)"
   ]
  },
  {
   "cell_type": "code",
   "execution_count": 21,
   "id": "instructional-paraguay",
   "metadata": {},
   "outputs": [],
   "source": [
    "arr = np.linspace(1, 10, num = 200, endpoint = True, retstep = False)"
   ]
  },
  {
   "cell_type": "code",
   "execution_count": 26,
   "id": "built-circumstances",
   "metadata": {},
   "outputs": [],
   "source": [
    "va = {}\n",
    "for i in arr:\n",
    "    kreg = KNeighborsRegressor(n_neighbors=5, weights='distance', p=i)\n",
    "    kreg.fit(data, target)\n",
    "    sc = cross_val_score(kreg, data, target, cv=kf, scoring='neg_mean_squared_error')\n",
    "    va[i] = sc.mean()"
   ]
  },
  {
   "cell_type": "code",
   "execution_count": 30,
   "id": "neural-audio",
   "metadata": {},
   "outputs": [
    {
     "name": "stdout",
     "output_type": "stream",
     "text": [
      "             Scores\n",
      "p                  \n",
      "1.000000 -16.030647\n",
      "1.090452 -16.370697\n",
      "1.045226 -16.407839\n",
      "1.135678 -16.445716\n",
      "1.180905 -16.475058\n",
      "1.226131 -16.526432\n",
      "1.271357 -16.636709\n",
      "1.587940 -16.801327\n",
      "1.316583 -16.824224\n",
      "1.361809 -16.874209\n",
      "1.633166 -16.980745\n"
     ]
    }
   ],
   "source": [
    "valDF=pandas.DataFrame.from_dict(va, orient='index')#получаем из словаря датасет  \n",
    "valDF.index.name = 'p'\n",
    "valDF.columns =['Scores']\n",
    "valDF.sort_values(['Scores'], ascending=[False],inplace=True)#сортировка по убыванию значений\n",
    "print(valDF.head(11))\n"
   ]
  }
 ],
 "metadata": {
  "kernelspec": {
   "display_name": "Python 3",
   "language": "python",
   "name": "python3"
  },
  "language_info": {
   "codemirror_mode": {
    "name": "ipython",
    "version": 3
   },
   "file_extension": ".py",
   "mimetype": "text/x-python",
   "name": "python",
   "nbconvert_exporter": "python",
   "pygments_lexer": "ipython3",
   "version": "3.8.5"
  }
 },
 "nbformat": 4,
 "nbformat_minor": 5
}
