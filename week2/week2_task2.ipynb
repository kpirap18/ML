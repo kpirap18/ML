{
 "cells": [
  {
   "cell_type": "code",
   "execution_count": 12,
   "id": "disturbed-phone",
   "metadata": {},
   "outputs": [],
   "source": [
    "import pandas\n",
    "import numpy as np\n",
    "from sklearn.model_selection import KFold\n",
    "from sklearn.model_selection import cross_val_score\n",
    "from sklearn.preprocessing import scale\n",
    "from sklearn.neighbors import KNeighborsRegressor\n",
    "from sklearn.datasets import load_boston\n"
   ]
  },
  {
   "cell_type": "code",
   "execution_count": 13,
   "id": "worldwide-bible",
   "metadata": {},
   "outputs": [],
   "source": [
    "boston = load_boston()"
   ]
  },
  {
   "cell_type": "code",
   "execution_count": 16,
   "id": "arctic-belarus",
   "metadata": {},
   "outputs": [],
   "source": [
    "data = pandas.DataFrame(data=boston.data, columns=boston.feature_names)\n",
    "target = pandas.DataFrame(data=boston.target)"
   ]
  },
  {
   "cell_type": "code",
   "execution_count": 19,
   "id": "informative-theory",
   "metadata": {},
   "outputs": [],
   "source": [
    "kf = KFold(n_splits = 5, shuffle=True, random_state=42)"
   ]
  },
  {
   "cell_type": "code",
   "execution_count": 20,
   "id": "similar-smell",
   "metadata": {},
   "outputs": [],
   "source": [
    "data = scale(data)"
   ]
  },
  {
   "cell_type": "code",
   "execution_count": 21,
   "id": "instructional-paraguay",
   "metadata": {},
   "outputs": [],
   "source": [
    "arr = np.linspace(1, 10, num = 200, endpoint = True, retstep = False)"
   ]
  },
  {
   "cell_type": "code",
   "execution_count": 26,
   "id": "built-circumstances",
   "metadata": {},
   "outputs": [],
   "source": [
    "va = {}\n",
    "for i in arr:\n",
    "    kreg = KNeighborsRegressor(n_neighbors=5, weights='distance', p=i)\n",
    "    kreg.fit(data, target)\n",
    "    sc = cross_val_score(kreg, data, target, cv=kf, scoring='neg_mean_squared_error')\n",
    "    va[i] = sc.mean()"
   ]
  },
  {
   "cell_type": "code",
   "execution_count": 30,
   "id": "neural-audio",
   "metadata": {},
   "outputs": [
    {
     "name": "stdout",
     "output_type": "stream",
     "text": [
      "             Scores\n",
      "p                  \n",
      "1.000000 -16.030647\n",
      "1.090452 -16.370697\n",
      "1.045226 -16.407839\n",
      "1.135678 -16.445716\n",
      "1.180905 -16.475058\n",
      "1.226131 -16.526432\n",
      "1.271357 -16.636709\n",
      "1.587940 -16.801327\n",
      "1.316583 -16.824224\n",
      "1.361809 -16.874209\n",
      "1.633166 -16.980745\n"
     ]
    }
   ],
   "source": [
    "valDF=pandas.DataFrame.from_dict(va, orient='index')#получаем из словаря датасет  \n",
    "valDF.index.name = 'p'\n",
    "valDF.columns =['Scores']\n",
    "valDF.sort_values(['Scores'], ascending=[False],inplace=True)#сортировка по убыванию значений\n",
    "print(valDF.head(11))\n"
   ]
  },
  {
   "cell_type": "code",
   "execution_count": 31,
   "id": "arabic-award",
   "metadata": {},
   "outputs": [
    {
     "name": "stdout",
     "output_type": "stream",
     "text": [
      "Определите, при каком p качество на кросс-валидации оказалось оптимальным.\n",
      "     Scores\n",
      "p          \n",
      "1.0   -16.0\n"
     ]
    }
   ],
   "source": [
    "# -*- coding: utf-8 -*-\n",
    "\"\"\"\n",
    "Created on Sun Feb 26 12:11:38 2017\n",
    "@author: нзнегз\n",
    "\"\"\"\n",
    "import pandas\n",
    "import numpy\n",
    "from sklearn import datasets\n",
    "from sklearn.preprocessing import scale\n",
    "from sklearn.neighbors import KNeighborsRegressor\n",
    "from sklearn.model_selection import KFold\n",
    "from sklearn.model_selection import cross_val_score\n",
    "\n",
    "#Загрузите выборку Boston с помощью функции sklearn.datasets.load_boston(). \n",
    "#Результатом вызова данной функции является объект, у которого признаки \n",
    "#записаны в поле data, а целевой вектор — в поле target.\n",
    "boston=datasets.load_boston()\n",
    "\n",
    "# - CRIM     per capita crime rate by town\n",
    "# - ZN       proportion of residential land zoned for lots over 25,000 sq.ft.\n",
    "# - INDUS    proportion of non-retail business acres per town\n",
    "# - CHAS     Charles River dummy variable (= 1 if tract bounds river; 0 otherwise)\n",
    "# - NOX      nitric oxides concentration (parts per 10 million)\n",
    "# - RM       average number of rooms per dwelling\n",
    "# - AGE      proportion of owner-occupied units built prior to 1940\n",
    "# - DIS      weighted distances to five Boston employment centres\n",
    "# - RAD      index of accessibility to radial highways\n",
    "# - TAX      full-value property-tax rate per $10,000\n",
    "# - PTRATIO  pupil-teacher ratio by town\n",
    "# - B        1000(Bk - 0.63)^2 where Bk is the proportion of blacks by town\n",
    "# - LSTAT    % lower status of the population\n",
    "# - MEDV     Median value of owner-occupied homes in $1000's\n",
    "data=pandas.DataFrame(data=boston.data,columns=boston.feature_names)\n",
    "target=pandas.DataFrame(data=boston.target)\n",
    "boston=0\n",
    "\n",
    "#Приведите признаки в выборке к одному масштабу при помощи функции sklearn.preprocessing.scale.\n",
    "dataScaled=scale(data)#масштабирование выполняется перед обучением\n",
    "data=0\n",
    "\n",
    "#Переберите разные варианты параметра метрики p по сетке от 1 до 10 с таким шагом, \n",
    "#чтобы всего было протестировано 200 вариантов (используйте функцию numpy.linspace). \n",
    "#Используйте KNeighborsRegressor с n_neighbors=5 и weights='distance' — данный параметр добавляет в алгоритм веса, \n",
    "#зависящие от расстояния до ближайших соседей. \n",
    "#В качестве метрики качества используйте среднеквадратичную ошибку (параметр scoring='mean_squared_error' у cross_val_score; \n",
    "#при использовании библиотеки scikit-learn версии 18.0.1 и выше необходимо указывать scoring='neg_mean_squared_error'). \n",
    "#Качество оценивайте, как и в предыдущем задании, с помощью кросс-валидации по 5 блокам с random_state = 42, \n",
    "#не забудьте включить перемешивание выборки (shuffle=True).\n",
    "kf = KFold(n_splits=5, shuffle=True, random_state=42)#кросс-валидация по 5 блокам с random_state = 42 с перемешиванием выборки\n",
    "\n",
    "#Полный формат вызова функции: numpy.linspace(start, stop, num = 50, endpoint = True, retstep = False),\n",
    "#где:\n",
    "#start - обязательный аргумент, первый член последовательности элементов массива;\n",
    "#stop - обязательный аргумент, последний член последовательности элементов массива;\n",
    "#num - опциональный аргумент, количество элементов массива, по умолчанию равен 50;\n",
    "#endpoint - опциональный аргумент, логическое значение, по умолчанию True. \n",
    "#Если передано True, stop, последний элемент массива. \n",
    "#Если установлено в False, последовательность элементов формируется от start до stop для num + 1 элементов, \n",
    "#при этом в возвращаемый массив последний элемент не входит;\n",
    "#retstep - опциональный аргумент, логическое значение, по умолчанию False. \n",
    "#Если передано True, функция возвращает кортеж из двух членов, \n",
    "#первый - массив, последовательность элементов, второй - число, приращение между элементами последовательности.\n",
    "p_parameter=numpy.linspace(1, 10, num = 200, endpoint = True, retstep = False)\n",
    "\n",
    "validationTest={}\n",
    "for parameter in p_parameter:#организуем цикл по p    \n",
    "    #Используйте KNeighborsRegressor с n_neighbors=5 и weights='distance' — данный параметр добавляет в алгоритм веса, \n",
    "    #зависящие от расстояния до ближайших соседей. \n",
    "    regression = KNeighborsRegressor(n_neighbors=5, weights='distance', p=parameter)\n",
    "    regression.fit(dataScaled,target)\n",
    "    scores=cross_val_score(regression, dataScaled, target, scoring='neg_mean_squared_error',cv=kf)\n",
    "    validationTest[parameter] = round(scores.mean(),1)\n",
    "    \n",
    "    \n",
    "#формируем датасет для сортировки    \n",
    "validationTestDataFrame=pandas.DataFrame.from_dict(validationTest, orient='index')#получаем из словаря датасет  \n",
    "validationTestDataFrame.index.name = 'p'\n",
    "validationTestDataFrame.columns =['Scores']\n",
    "validationTestDataFrame.sort_values(['Scores'], ascending=[False],inplace=True)#сортировка по убыванию значений\n",
    "print('Определите, при каком p качество на кросс-валидации оказалось оптимальным.');\n",
    "print(validationTestDataFrame.head(1))"
   ]
  },
  {
   "cell_type": "code",
   "execution_count": null,
   "id": "informative-scholar",
   "metadata": {},
   "outputs": [],
   "source": []
  }
 ],
 "metadata": {
  "kernelspec": {
   "display_name": "Python 3",
   "language": "python",
   "name": "python3"
  },
  "language_info": {
   "codemirror_mode": {
    "name": "ipython",
    "version": 3
   },
   "file_extension": ".py",
   "mimetype": "text/x-python",
   "name": "python",
   "nbconvert_exporter": "python",
   "pygments_lexer": "ipython3",
   "version": "3.8.5"
  }
 },
 "nbformat": 4,
 "nbformat_minor": 5
}
