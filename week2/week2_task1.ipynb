{
 "cells": [
  {
   "cell_type": "code",
   "execution_count": 48,
   "id": "nervous-batch",
   "metadata": {},
   "outputs": [],
   "source": [
    "import pandas\n",
    "from sklearn.model_selection import KFold\n",
    "from sklearn.model_selection import cross_val_score\n",
    "from sklearn.preprocessing import scale\n",
    "from sklearn.neighbors import KNeighborsClassifier"
   ]
  },
  {
   "cell_type": "code",
   "execution_count": 49,
   "id": "reported-extra",
   "metadata": {},
   "outputs": [],
   "source": [
    "# Загрузка\n",
    "data = pandas.read_csv(\"wine.data\")"
   ]
  },
  {
   "cell_type": "code",
   "execution_count": 50,
   "id": "appointed-variety",
   "metadata": {},
   "outputs": [],
   "source": [
    "data.columns = ['Class','Alcohol','MalicAcid','Ash','AlcalinityOfAsh','Magnesium','TotalPhenols','Flavanoids','NonflavanoidPhenols','Proanthocyanins','ColorIntensity','Hue','OD280_OD315OfDilutedWines','Proline']"
   ]
  },
  {
   "cell_type": "code",
   "execution_count": 51,
   "id": "norwegian-announcement",
   "metadata": {
    "scrolled": true
   },
   "outputs": [],
   "source": [
    "target = data.Class\n",
    "model = data.drop(['Class'], axis=1)"
   ]
  },
  {
   "cell_type": "code",
   "execution_count": 52,
   "id": "confirmed-colleague",
   "metadata": {},
   "outputs": [],
   "source": [
    "kf = KFold(n_splits = 5, shuffle=True, random_state=42)"
   ]
  },
  {
   "cell_type": "code",
   "execution_count": 55,
   "id": "whole-disney",
   "metadata": {},
   "outputs": [
    {
     "name": "stdout",
     "output_type": "stream",
     "text": [
      "При каком k получилось оптимальное качество? Чему оно равно (число в интервале от 0 до 1)? Данные результаты и будут ответами на вопросы 1 и 2.\n",
      "      Scores\n",
      "k           \n",
      "1   0.735238\n",
      "15  0.735079\n",
      "20  0.729365\n",
      "18  0.729365\n",
      "16  0.729365\n",
      "27  0.729365\n",
      "25  0.729365\n",
      "17  0.729365\n",
      "28  0.729206\n",
      "26  0.723810\n",
      "При каком k получилось оптимальное качество? Чему оно равно (число в интервале от 0 до 1)? Данные результаты и будут ответами на вопросы 1 и 2.\n",
      "      Scores\n",
      "k           \n",
      "33  0.977302\n",
      "30  0.977302\n",
      "28  0.977302\n",
      "37  0.977302\n",
      "36  0.977302\n",
      "35  0.977302\n",
      "34  0.977302\n",
      "29  0.977302\n",
      "32  0.977302\n",
      "31  0.977302\n",
      "7   0.971905\n",
      "21  0.971746\n",
      "25  0.971746\n",
      "27  0.971746\n",
      "26  0.971746\n",
      "15  0.971746\n",
      "23  0.971746\n",
      "24  0.971746\n",
      "38  0.971587\n",
      "40  0.971587\n",
      "42  0.971587\n",
      "43  0.971587\n",
      "50  0.971587\n",
      "19  0.966190\n",
      "10  0.966190\n",
      "8   0.966032\n",
      "44  0.966032\n",
      "45  0.966032\n",
      "39  0.966032\n",
      "46  0.966032\n",
      "20  0.966032\n",
      "47  0.966032\n",
      "41  0.966032\n",
      "48  0.966032\n",
      "49  0.966032\n",
      "9   0.960794\n",
      "17  0.960794\n",
      "13  0.960635\n",
      "14  0.960476\n",
      "16  0.960476\n",
      "12  0.960476\n",
      "22  0.960317\n",
      "18  0.960317\n",
      "11  0.955079\n",
      "6   0.954603\n",
      "5   0.949365\n",
      "1   0.949206\n",
      "3   0.943810\n",
      "4   0.943492\n",
      "2   0.937937\n"
     ]
    }
   ],
   "source": [
    "def CalculateScores(model,count):        \n",
    "    validationTest={}\n",
    "    for k in range(50):#счетчик идет от нуля\n",
    "        model_knc = KNeighborsClassifier(n_neighbors = (k+1)) #в параметре передаем кол-во соседей\n",
    "        scores = cross_val_score(model_knc, model, target,cv=kf, scoring='accuracy')\n",
    "        validationTest[k+1]=scores.mean()#берем среднее значение оценки\n",
    "\n",
    "    #формируем датасет для сортировки    \n",
    "    validationTestDataFrame=pandas.DataFrame.from_dict(validationTest, orient='index')#получаем из словаря датасет  \n",
    "    validationTestDataFrame.index.name = 'k'\n",
    "    validationTestDataFrame.columns =['Scores']\n",
    "    validationTestDataFrame.sort_values(['Scores'], ascending=[False],inplace=True)\n",
    "    print('При каком k получилось оптимальное качество? Чему оно равно (число в интервале от 0 до 1)? Данные результаты и будут ответами на вопросы 1 и 2.');\n",
    "    print(validationTestDataFrame.head(count))\n",
    "\n",
    "CalculateScores(model,10)\n",
    "#Произведите масштабирование признаков с помощью функции sklearn.preprocessing.scale. \n",
    "model2=scale(model)#масштабирование выполняется перед обучением\n",
    "CalculateScores(model2,50)#Снова найдите оптимальное k на кросс-валидации."
   ]
  },
  {
   "cell_type": "code",
   "execution_count": 63,
   "id": "centered-scholarship",
   "metadata": {},
   "outputs": [
    {
     "name": "stdout",
     "output_type": "stream",
     "text": [
      "1\n",
      "0.73\n",
      "29\n",
      "0.98\n"
     ]
    }
   ],
   "source": [
    "import numpy as np\n",
    "import pandas as pd\n",
    "from sklearn.neighbors import KNeighborsClassifier \n",
    "import pandas\n",
    "from sklearn.model_selection import KFold\n",
    "#from sklearn.cross_validation import *\n",
    "from sklearn.preprocessing import *\n",
    "from sklearn import metrics\n",
    " \n",
    "data = pd.read_csv('wine.data', header=None)\n",
    "X = pd.read_csv('wine.data', header=None, usecols=list(range(1,14)))\n",
    "y = pd.read_csv('wine.data', header=None, usecols=[0]).values.reshape(len(X),)\n",
    " \n",
    "kf = KFold(n_splits=5, shuffle=True, random_state=42)\n",
    " \n",
    "kMeans = list()\n",
    "for k in range(1, 51):\n",
    "    kn = KNeighborsClassifier(n_neighbors=k)\n",
    "    kn.fit(X, y);\n",
    "    array = cross_val_score(estimator=kn, X=X, y=y, cv=kf, scoring='accuracy')\n",
    "    m = array.mean()\n",
    "    kMeans.append(m)   \n",
    " \n",
    "m = max(kMeans)\n",
    "indices = [i for i, j in enumerate(kMeans) if j == m]\n",
    " \n",
    "print(indices[0]+1)\n",
    "print(np.round(m,decimals=2))\n",
    " \n",
    "X_scale = scale(X)\n",
    " \n",
    "kMeans = list()\n",
    "for k in range(1, 51):\n",
    "    kn = KNeighborsClassifier(n_neighbors=k)\n",
    "    array = cross_val_score(estimator=kn, X=X_scale, y=y, cv=kf, scoring='accuracy')\n",
    "    m = array.mean()\n",
    "    kMeans.append(m)   \n",
    " \n",
    "m = max(kMeans)\n",
    "indices = [i for i, j in enumerate(kMeans) if j == m]\n",
    " \n",
    "print(indices[0]+1)\n",
    "print(np.round(m,decimals=2))"
   ]
  },
  {
   "cell_type": "code",
   "execution_count": null,
   "id": "featured-determination",
   "metadata": {},
   "outputs": [],
   "source": []
  }
 ],
 "metadata": {
  "kernelspec": {
   "display_name": "Python 3",
   "language": "python",
   "name": "python3"
  },
  "language_info": {
   "codemirror_mode": {
    "name": "ipython",
    "version": 3
   },
   "file_extension": ".py",
   "mimetype": "text/x-python",
   "name": "python",
   "nbconvert_exporter": "python",
   "pygments_lexer": "ipython3",
   "version": "3.8.5"
  }
 },
 "nbformat": 4,
 "nbformat_minor": 5
}
