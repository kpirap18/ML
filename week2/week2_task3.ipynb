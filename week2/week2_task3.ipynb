{
 "cells": [
  {
   "cell_type": "code",
   "execution_count": 1,
   "id": "unavailable-partition",
   "metadata": {},
   "outputs": [],
   "source": [
    "import numpy as np\n",
    "from sklearn.linear_model import Perceptron\n",
    "X = np.array([[1, 2], [3, 4], [5, 6]])\n",
    "y = np.array([0, 1, 0])\n",
    "clf = Perceptron()\n",
    "clf.fit(X, y)\n",
    "predictions = clf.predict(X)"
   ]
  },
  {
   "cell_type": "code",
   "execution_count": 2,
   "id": "aerial-april",
   "metadata": {},
   "outputs": [
    {
     "data": {
      "text/plain": [
       "array([0, 0, 0])"
      ]
     },
     "execution_count": 2,
     "metadata": {},
     "output_type": "execute_result"
    }
   ],
   "source": [
    "predictions"
   ]
  },
  {
   "cell_type": "code",
   "execution_count": 3,
   "id": "collect-blame",
   "metadata": {},
   "outputs": [],
   "source": [
    "from sklearn.preprocessing import StandardScaler\n",
    "scaler = StandardScaler()\n",
    "X_train = np.array([[100.0, 2.0], [50.0, 4.0], [70.0, 6.0]])\n",
    "X_test = np.array([[90.0, 1], [40.0, 3], [60.0, 4]])\n",
    "X_train_scaled = scaler.fit_transform(X_train)\n",
    "X_test_scaled = scaler.transform(X_test)"
   ]
  },
  {
   "cell_type": "code",
   "execution_count": 4,
   "id": "composed-folks",
   "metadata": {},
   "outputs": [
    {
     "data": {
      "text/plain": [
       "array([[ 0.81110711, -1.83711731],\n",
       "       [-1.62221421, -0.61237244],\n",
       "       [-0.64888568,  0.        ]])"
      ]
     },
     "execution_count": 4,
     "metadata": {},
     "output_type": "execute_result"
    }
   ],
   "source": [
    "X_test_scaled"
   ]
  },
  {
   "cell_type": "code",
   "execution_count": 36,
   "id": "spanish-officer",
   "metadata": {},
   "outputs": [],
   "source": [
    "import numpy as np\n",
    "import pandas\n",
    "from sklearn.linear_model import Perceptron\n",
    "from sklearn.preprocessing import StandardScaler\n",
    "from sklearn.metrics import accuracy_score"
   ]
  },
  {
   "cell_type": "code",
   "execution_count": 37,
   "id": "eleven-sheffield",
   "metadata": {
    "scrolled": true
   },
   "outputs": [],
   "source": [
    "data = pandas.read_csv('perceptron-train.csv', header = None)\n",
    "data1 = pandas.read_csv('perceptron-test.csv', header = None)"
   ]
  },
  {
   "cell_type": "code",
   "execution_count": 38,
   "id": "realistic-phenomenon",
   "metadata": {},
   "outputs": [],
   "source": [
    "y_train = data[0]\n",
    "X_train = data.loc[:,1:]\n",
    "y_test = data1[0]\n",
    "X_test = data1.loc[:,1:]"
   ]
  },
  {
   "cell_type": "code",
   "execution_count": 46,
   "id": "corporate-prophet",
   "metadata": {},
   "outputs": [],
   "source": [
    "# обучение прецептрона\n",
    "def train_preceptron(ty, X_train, y_train, X_test,y_test): \n",
    "    clf = Perceptron(random_state=241)\n",
    "    clf.fit(X_train, y_train)\n",
    "    predic = clf.predict(X_test)\n",
    "    accu_score = accuracy_score(y_test, predic)\n",
    "    print(\"H \" + ty)\n",
    "    print(accu_score)\n",
    "    return accu_score"
   ]
  },
  {
   "cell_type": "code",
   "execution_count": 47,
   "id": "supreme-carpet",
   "metadata": {},
   "outputs": [
    {
     "name": "stdout",
     "output_type": "stream",
     "text": [
      "H без\n",
      "0.655\n",
      "H с\n",
      "0.725\n",
      "comparation 0.06999999999999995\n"
     ]
    }
   ],
   "source": [
    "accu_general = train_preceptron(\"без\", X_train, y_train, X_test, y_test)\n",
    "scaler = StandardScaler()\n",
    "scaler_X_train = scaler.fit_transform(X_train)\n",
    "scaler_X_test = scaler.transform(X_test)\n",
    "\n",
    "accu_scaler = train_preceptron(\"с\", scaler_X_train, y_train, \n",
    "                               scaler_X_test, y_test)\n",
    "\n",
    "print(\"comparation\", accu_scaler - accu_general)\n",
    "\n"
   ]
  },
  {
   "cell_type": "code",
   "execution_count": 48,
   "id": "right-english",
   "metadata": {},
   "outputs": [
    {
     "name": "stdout",
     "output_type": "stream",
     "text": [
      "Подсчитайте качество без нормализации\n",
      "0.655\n",
      "Подсчитайте качество c нормализацией\n",
      "0.725\n",
      "Разница\n",
      "0.06999999999999995\n"
     ]
    }
   ],
   "source": [
    "import pandas\n",
    "from sklearn.preprocessing import StandardScaler\n",
    "from sklearn.linear_model import Perceptron\n",
    "from sklearn.metrics import accuracy_score\n",
    "\n",
    "\n",
    "#Загрузите обучающую и тестовую выборки из файлов perceptron-train.csv и perceptron-test.csv. \n",
    "#Целевая переменная записана в первом столбце, признаки — во втором и третьем.\n",
    "data= pandas.read_csv('perceptron-train.csv',header=None)#,names=['Class','Feature1','Feature2']\n",
    "y_train = data[0]#Класс\n",
    "X_train = data.loc[:, 1:]#Характеристики\n",
    "\n",
    "#target_train = data.Class#вычленяем массив\n",
    "#model_train = data.drop(['Class'], axis=1)#Вычленяем модель из датасет \n",
    "\n",
    "data= pandas.read_csv('perceptron-test.csv',header=None)#,names=['Class','Feature1','Feature2']\n",
    "y_test = data[0]#Класс\n",
    "X_test = data.loc[:, 1:]#Характеристики\n",
    "\n",
    "data=0\n",
    "\n",
    "#процедура обучения перцептрона\n",
    "def PerceptronTrain(typeStr,X_train, y_train,X_test,y_test):     \n",
    "    clf = Perceptron(random_state=241)\n",
    "    clf.fit(X_train, y_train)\n",
    "    predictions = clf.predict(X_test)#предсказание по тестовым данным\n",
    "    accuracyScore=accuracy_score(y_test, predictions)#проверка точности по тестовым данным\n",
    "\n",
    "    print('Подсчитайте качество '+typeStr)\n",
    "    accuracyScoreRounded=round(accuracyScore,3)\n",
    "    print(accuracyScoreRounded)\n",
    "    return accuracyScoreRounded\n",
    "\n",
    "#обучаем перцептрон\n",
    "accuracyScoreGeneral=PerceptronTrain('без нормализации',X_train, y_train,X_test,y_test)\n",
    "\n",
    "#Нормализуйте обучающую и тестовую выборку с помощью класса StandardScaler\n",
    "scaler = StandardScaler()\n",
    "X_train_scaled = scaler.fit_transform(X_train)\n",
    "X_test_scaled = scaler.transform(X_test)\n",
    "\n",
    "#Обучите персептрон на новых выборках. Найдите долю правильных ответов на тестовой выборке.\n",
    "accuracyScoreScaled=PerceptronTrain('c нормализацией',X_train_scaled, y_train,X_test_scaled,y_test)\n",
    "\n",
    "#Найдите разность между качеством на тестовой выборке после нормализации и качеством до нее. Это число и будет ответом на задание.\n",
    "Comparation=accuracyScoreScaled-accuracyScoreGeneral\n",
    "print('Разница')\n",
    "print(Comparation)"
   ]
  },
  {
   "cell_type": "code",
   "execution_count": 49,
   "id": "naughty-annual",
   "metadata": {},
   "outputs": [
    {
     "data": {
      "text/plain": [
       "0.06999999999999995"
      ]
     },
     "execution_count": 49,
     "metadata": {},
     "output_type": "execute_result"
    }
   ],
   "source": [
    "0.725-0.655\n",
    "\n"
   ]
  },
  {
   "cell_type": "code",
   "execution_count": 50,
   "id": "composite-pastor",
   "metadata": {},
   "outputs": [
    {
     "data": {
      "text/plain": [
       "0.07"
      ]
     },
     "execution_count": 50,
     "metadata": {},
     "output_type": "execute_result"
    }
   ],
   "source": [
    "round(0.725-0.655, 3)"
   ]
  },
  {
   "cell_type": "code",
   "execution_count": 52,
   "id": "liked-insurance",
   "metadata": {},
   "outputs": [
    {
     "name": "stdout",
     "output_type": "stream",
     "text": [
      "0.185\n"
     ]
    }
   ],
   "source": [
    "import numpy as np\n",
    "import pandas as pd\n",
    "from sklearn.linear_model import Perceptron\n",
    "from sklearn.metrics import accuracy_score\n",
    "from sklearn.preprocessing import StandardScaler\n",
    "\n",
    "scaler = StandardScaler()\n",
    "# Загружаем данные для обучения\n",
    "train = pd.read_csv(\"perceptron-train.csv\", header=None)\n",
    "ytrain = train[train.columns[0]]\n",
    "Xtrain = train[train.columns[1:]]\n",
    "Xtrain_scaled = scaler.fit_transform(Xtrain)\n",
    "\n",
    "# Загружаем данные для теста\n",
    "test = pd.read_csv(\"perceptron-test.csv\", header=None)\n",
    "ytest = test[test.columns[0]]\n",
    "Xtest = test[test.columns[1:]]\n",
    "Xtest_scaled = scaler.transform(Xtest)\n",
    "\n",
    "clf = Perceptron(random_state=241, max_iter=5, tol=None)\n",
    "# Обучаем без\n",
    "clf.fit(Xtrain, ytrain)\n",
    "result_not_scale = accuracy_score(ytest, clf.predict(Xtest))\n",
    "# Обучаем с\n",
    "clf.fit(Xtrain_scaled, ytrain)\n",
    "result_scale = accuracy_score(ytest, clf.predict(Xtest_scaled))\n",
    "\n",
    "# Получаем ответ и округляем до 3 знака\n",
    "result = round(result_scale - result_not_scale, 3)\n",
    "# Выводим в файл для загрузки и на экран\n",
    "f = open('result_1', 'w')\n",
    "print(result, file=f, end=\"\")\n",
    "print(result)\n",
    "f.close()"
   ]
  },
  {
   "cell_type": "code",
   "execution_count": null,
   "id": "weird-cathedral",
   "metadata": {},
   "outputs": [],
   "source": []
  }
 ],
 "metadata": {
  "kernelspec": {
   "display_name": "Python 3",
   "language": "python",
   "name": "python3"
  },
  "language_info": {
   "codemirror_mode": {
    "name": "ipython",
    "version": 3
   },
   "file_extension": ".py",
   "mimetype": "text/x-python",
   "name": "python",
   "nbconvert_exporter": "python",
   "pygments_lexer": "ipython3",
   "version": "3.8.5"
  }
 },
 "nbformat": 4,
 "nbformat_minor": 5
}
