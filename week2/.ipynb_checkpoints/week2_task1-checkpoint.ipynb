{
 "cells": [
  {
   "cell_type": "code",
   "execution_count": 48,
   "id": "nervous-batch",
   "metadata": {},
   "outputs": [],
   "source": [
    "import pandas\n",
    "from sklearn.model_selection import KFold\n",
    "from sklearn.model_selection import cross_val_score\n",
    "from sklearn.preprocessing import scale\n",
    "from sklearn.neighbors import KNeighborsClassifier"
   ]
  },
  {
   "cell_type": "code",
   "execution_count": 49,
   "id": "reported-extra",
   "metadata": {},
   "outputs": [],
   "source": [
    "# Загрузка\n",
    "data = pandas.read_csv(\"wine.data\")"
   ]
  },
  {
   "cell_type": "code",
   "execution_count": 50,
   "id": "appointed-variety",
   "metadata": {},
   "outputs": [],
   "source": [
    "data.columns = ['Class','Alcohol','MalicAcid','Ash','AlcalinityOfAsh','Magnesium','TotalPhenols','Flavanoids','NonflavanoidPhenols','Proanthocyanins','ColorIntensity','Hue','OD280_OD315OfDilutedWines','Proline']"
   ]
  },
  {
   "cell_type": "code",
   "execution_count": 51,
   "id": "norwegian-announcement",
   "metadata": {
    "scrolled": true
   },
   "outputs": [],
   "source": [
    "target = data.Class\n",
    "model = data.drop(['Class'], axis=1)"
   ]
  },
  {
   "cell_type": "code",
   "execution_count": 52,
   "id": "confirmed-colleague",
   "metadata": {},
   "outputs": [],
   "source": [
    "kf = KFold(n_splits = 5, shuffle=True, random_state=42)"
   ]
  },
  {
   "cell_type": "code",
   "execution_count": 54,
   "id": "whole-disney",
   "metadata": {},
   "outputs": [
    {
     "name": "stdout",
     "output_type": "stream",
     "text": [
      "При каком k получилось оптимальное качество? Чему оно равно (число в интервале от 0 до 1)? Данные результаты и будут ответами на вопросы 1 и 2.\n",
      "      Scores\n",
      "k           \n",
      "1   0.735238\n",
      "15  0.735079\n",
      "20  0.729365\n",
      "18  0.729365\n",
      "16  0.729365\n",
      "27  0.729365\n",
      "25  0.729365\n",
      "17  0.729365\n",
      "28  0.729206\n",
      "26  0.723810\n",
      "При каком k получилось оптимальное качество? Чему оно равно (число в интервале от 0 до 1)? Данные результаты и будут ответами на вопросы 1 и 2.\n",
      "      Scores\n",
      "k           \n",
      "33  0.977302\n",
      "30  0.977302\n",
      "28  0.977302\n",
      "37  0.977302\n",
      "36  0.977302\n",
      "35  0.977302\n",
      "34  0.977302\n",
      "29  0.977302\n",
      "32  0.977302\n",
      "31  0.977302\n",
      "7   0.971905\n",
      "21  0.971746\n",
      "25  0.971746\n",
      "27  0.971746\n",
      "26  0.971746\n",
      "15  0.971746\n",
      "23  0.971746\n",
      "24  0.971746\n",
      "38  0.971587\n",
      "40  0.971587\n"
     ]
    }
   ],
   "source": [
    "def CalculateScores(model,count):        \n",
    "    validationTest={}\n",
    "    for k in range(50):#счетчик идет от нуля\n",
    "        model_knc = KNeighborsClassifier(n_neighbors = (k+1)) #в параметре передаем кол-во соседей\n",
    "        scores = cross_val_score(model_knc, model, target,cv=kf, scoring='accuracy')\n",
    "        validationTest[k+1]=scores.mean()#берем среднее значение оценки\n",
    "\n",
    "    #формируем датасет для сортировки    \n",
    "    validationTestDataFrame=pandas.DataFrame.from_dict(validationTest, orient='index')#получаем из словаря датасет  \n",
    "    validationTestDataFrame.index.name = 'k'\n",
    "    validationTestDataFrame.columns =['Scores']\n",
    "    validationTestDataFrame.sort_values(['Scores'], ascending=[False],inplace=True)\n",
    "    print('При каком k получилось оптимальное качество? Чему оно равно (число в интервале от 0 до 1)? Данные результаты и будут ответами на вопросы 1 и 2.');\n",
    "    print(validationTestDataFrame.head(count))\n",
    "\n",
    "CalculateScores(model,10)\n",
    "#Произведите масштабирование признаков с помощью функции sklearn.preprocessing.scale. \n",
    "model2=scale(model)#масштабирование выполняется перед обучением\n",
    "CalculateScores(model2,50)#Снова найдите оптимальное k на кросс-валидации."
   ]
  },
  {
   "cell_type": "code",
   "execution_count": 34,
   "id": "unavailable-jewel",
   "metadata": {},
   "outputs": [],
   "source": [
    "import pandas\n",
    "import numpy as np\n",
    "from sklearn.neighbors import KNeighborsClassifier\n",
    "from sklearn.model_selection import KFold\n",
    "from sklearn.model_selection import cross_val_score\n",
    "from sklearn.preprocessing import scale"
   ]
  },
  {
   "cell_type": "code",
   "execution_count": 35,
   "id": "improving-graphics",
   "metadata": {},
   "outputs": [
    {
     "data": {
      "text/plain": [
       "array([[1.000e+00, 1.423e+01, 1.710e+00, ..., 1.040e+00, 3.920e+00,\n",
       "        1.065e+03],\n",
       "       [1.000e+00, 1.320e+01, 1.780e+00, ..., 1.050e+00, 3.400e+00,\n",
       "        1.050e+03],\n",
       "       [1.000e+00, 1.316e+01, 2.360e+00, ..., 1.030e+00, 3.170e+00,\n",
       "        1.185e+03],\n",
       "       ...,\n",
       "       [3.000e+00, 1.327e+01, 4.280e+00, ..., 5.900e-01, 1.560e+00,\n",
       "        8.350e+02],\n",
       "       [3.000e+00, 1.317e+01, 2.590e+00, ..., 6.000e-01, 1.620e+00,\n",
       "        8.400e+02],\n",
       "       [3.000e+00, 1.413e+01, 4.100e+00, ..., 6.100e-01, 1.600e+00,\n",
       "        5.600e+02]])"
      ]
     },
     "execution_count": 35,
     "metadata": {},
     "output_type": "execute_result"
    }
   ],
   "source": [
    "data = np.genfromtxt('wine.data', delimiter=',')\n",
    "y = data[:,0]\n",
    "x = data[:,1:]\n",
    "cv =  KFold(n_splits=5, shuffle=True, random_state=42)\n",
    "validationTest={}\n",
    "data"
   ]
  },
  {
   "cell_type": "code",
   "execution_count": 36,
   "id": "material-exclusion",
   "metadata": {},
   "outputs": [],
   "source": [
    "for k in range(50):#счетчик идет от нуля\n",
    "        classifier = KNeighborsClassifier(n_neighbors = (k+1)) #в параметре передаем кол-во соседей\n",
    "        quality = cross_val_score(classifier, x, y, cv=kf, scoring='accuracy')\n",
    "        validationTest[k+1]=quality.mean()"
   ]
  },
  {
   "cell_type": "code",
   "execution_count": 37,
   "id": "national-change",
   "metadata": {},
   "outputs": [
    {
     "name": "stdout",
     "output_type": "stream",
     "text": [
      "           0\n",
      "1   0.730476\n",
      "2   0.662540\n",
      "3   0.708254\n",
      "4   0.657778\n",
      "5   0.674603\n",
      "6   0.674286\n",
      "7   0.680000\n",
      "8   0.680000\n",
      "9   0.702381\n",
      "10  0.680159\n",
      "11  0.702540\n",
      "12  0.696667\n",
      "13  0.690952\n",
      "14  0.679365\n",
      "15  0.701905\n",
      "16  0.679524\n",
      "17  0.701587\n",
      "18  0.679524\n",
      "19  0.679365\n",
      "20  0.690952\n"
     ]
    }
   ],
   "source": [
    "validationTestDataFrame=pandas.DataFrame.from_dict(validationTest, orient='index')\n",
    "print(validationTestDataFrame.head(20))"
   ]
  },
  {
   "cell_type": "code",
   "execution_count": 38,
   "id": "junior-shanghai",
   "metadata": {},
   "outputs": [
    {
     "name": "stdout",
     "output_type": "stream",
     "text": [
      "           0\n",
      "1   0.943968\n",
      "2   0.932857\n",
      "3   0.955079\n",
      "4   0.938254\n",
      "5   0.949365\n",
      "6   0.949524\n",
      "7   0.949524\n",
      "8   0.955238\n",
      "9   0.960794\n",
      "10  0.960794\n",
      "11  0.960952\n",
      "12  0.955238\n",
      "13  0.949524\n",
      "14  0.966349\n",
      "15  0.972063\n",
      "16  0.972063\n",
      "17  0.966508\n",
      "18  0.966508\n",
      "19  0.955397\n",
      "20  0.966508\n"
     ]
    }
   ],
   "source": [
    "xx = scale(x)\n",
    "for k in range(50):#счетчик идет от нуля\n",
    "        classifier = KNeighborsClassifier(n_neighbors = (k+1)) #в параметре передаем кол-во соседей\n",
    "        quality = cross_val_score(classifier, xx, y, cv=kf, scoring='accuracy')\n",
    "        validationTest[k+1]=quality.mean()\n",
    "validationTestDataFrame=pandas.DataFrame.from_dict(validationTest, orient='index')\n",
    "print(validationTestDataFrame.head(20))"
   ]
  },
  {
   "cell_type": "code",
   "execution_count": null,
   "id": "centered-scholarship",
   "metadata": {},
   "outputs": [],
   "source": []
  }
 ],
 "metadata": {
  "kernelspec": {
   "display_name": "Python 3",
   "language": "python",
   "name": "python3"
  },
  "language_info": {
   "codemirror_mode": {
    "name": "ipython",
    "version": 3
   },
   "file_extension": ".py",
   "mimetype": "text/x-python",
   "name": "python",
   "nbconvert_exporter": "python",
   "pygments_lexer": "ipython3",
   "version": "3.8.5"
  }
 },
 "nbformat": 4,
 "nbformat_minor": 5
}
