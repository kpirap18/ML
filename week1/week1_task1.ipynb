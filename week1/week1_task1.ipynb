{
 "cells": [
  {
   "cell_type": "code",
   "execution_count": 1,
   "id": "solar-visibility",
   "metadata": {},
   "outputs": [],
   "source": [
    "import pandas\n",
    "import numpy as np\n",
    "import operator"
   ]
  },
  {
   "cell_type": "code",
   "execution_count": 2,
   "id": "vietnamese-questionnaire",
   "metadata": {},
   "outputs": [],
   "source": [
    "data = pandas.read_csv('titanic.csv', index_col='PassengerId')"
   ]
  },
  {
   "cell_type": "code",
   "execution_count": 3,
   "id": "pressed-display",
   "metadata": {},
   "outputs": [
    {
     "data": {
      "text/plain": [
       "male      577\n",
       "female    314\n",
       "Name: Sex, dtype: int64"
      ]
     },
     "execution_count": 3,
     "metadata": {},
     "output_type": "execute_result"
    }
   ],
   "source": [
    "data['Sex'].value_counts()"
   ]
  },
  {
   "cell_type": "code",
   "execution_count": 4,
   "id": "engaging-recorder",
   "metadata": {},
   "outputs": [
    {
     "data": {
      "text/plain": [
       "0    549\n",
       "1    342\n",
       "Name: Survived, dtype: int64"
      ]
     },
     "execution_count": 4,
     "metadata": {},
     "output_type": "execute_result"
    }
   ],
   "source": [
    "data['Survived'].value_counts()\n"
   ]
  },
  {
   "cell_type": "code",
   "execution_count": 5,
   "id": "rational-desktop",
   "metadata": {},
   "outputs": [
    {
     "data": {
      "text/plain": [
       "3    491\n",
       "1    216\n",
       "2    184\n",
       "Name: Pclass, dtype: int64"
      ]
     },
     "execution_count": 5,
     "metadata": {},
     "output_type": "execute_result"
    }
   ],
   "source": [
    "data['Pclass'].value_counts()"
   ]
  },
  {
   "cell_type": "code",
   "execution_count": 6,
   "id": "satisfactory-flash",
   "metadata": {},
   "outputs": [],
   "source": [
    "age = data['Age']"
   ]
  },
  {
   "cell_type": "code",
   "execution_count": 7,
   "id": "other-recruitment",
   "metadata": {},
   "outputs": [
    {
     "data": {
      "text/plain": [
       "PassengerId\n",
       "1      22.0\n",
       "2      38.0\n",
       "3      26.0\n",
       "4      35.0\n",
       "5      35.0\n",
       "       ... \n",
       "887    27.0\n",
       "888    19.0\n",
       "889     NaN\n",
       "890    26.0\n",
       "891    32.0\n",
       "Name: Age, Length: 891, dtype: float64"
      ]
     },
     "execution_count": 7,
     "metadata": {},
     "output_type": "execute_result"
    }
   ],
   "source": [
    "age"
   ]
  },
  {
   "cell_type": "code",
   "execution_count": 8,
   "id": "certain-interface",
   "metadata": {},
   "outputs": [
    {
     "name": "stdout",
     "output_type": "stream",
     "text": [
      "29.69911764705882\n",
      "28.0\n"
     ]
    }
   ],
   "source": [
    "print(age.mean())\n",
    "print(age.median())"
   ]
  },
  {
   "cell_type": "code",
   "execution_count": 9,
   "id": "organized-texture",
   "metadata": {},
   "outputs": [
    {
     "data": {
      "text/plain": [
       "0.41483769862015624"
      ]
     },
     "execution_count": 9,
     "metadata": {},
     "output_type": "execute_result"
    }
   ],
   "source": [
    "sisp = data['SibSp']\n",
    "parch = data['Parch']\n",
    "corr = sisp.corr(parch, method='pearson')\n",
    "corr"
   ]
  },
  {
   "cell_type": "code",
   "execution_count": 18,
   "id": "dress-acoustic",
   "metadata": {},
   "outputs": [
    {
     "name": "stdout",
     "output_type": "stream",
     "text": [
      "['Florence', 'Lain', 'Lily', 'Elisabeth', 'Adele', 'Marguerite', 'Elizabet', 'Hulda', 'Mary', 'Emelia', 'Fatim', 'Anna', 'Torborg', 'Selma', 'Ellen', 'Marie', 'Mary', 'Augusta', 'Jamil', 'Johanna', 'Dorothy', 'Simonne', 'Margaret', 'Bridge', 'Josefine', 'Myna', 'Elizabeth', 'Emil', 'Constance', 'Ameli', 'Elizabeth', 'Erna', 'Lillian', 'Elizabet', 'Brigdet', 'Berth', 'Maria', 'Mabel', 'Ada', 'Matild', 'Anna', 'Berth', 'Hilen', 'Katriin', 'Malak', 'Ellis', 'Susa', 'Ann', 'Grace', 'Mathilde', 'Helen', 'Sultana', 'Anna', 'Elin', 'Robina', 'Edith', 'Katherine', 'Elizabeth', 'Edith', 'Anna', 'Eleanor', 'Ann', 'Constance', 'Luise', 'Johanna', 'Rosa', 'Carla', 'Margaret', 'Elis', 'Margaret', '\"Mrs', 'Telma', 'Helen', 'Clear', 'Madelein', 'Eliin', 'Albin', 'Mathild', 'Irene', 'Lillian', 'Alice', 'Marjorie', 'Thamin', 'Katherine', 'Agda', 'Anna', 'Elna', 'Helena', 'Hanne', 'Gertrude', 'Glady', 'Ann', 'Lutie', 'Deli', 'Edith', 'Ameli', 'Elizabeth', 'Hanora', 'Kornelia', 'Augusta', 'Rosa', 'Kat', 'Ellen', 'Helen', 'Aloisi', 'Helen', 'Helene', 'Anna', 'Nora', 'Margare', 'Maria', 'Laura', 'Margaret', 'Emily', 'Anna', 'Helmina', 'Miriam', 'Mary', 'Margaretta', 'Hilda', 'Sylvia', 'Marie', 'Ada', 'Emily', 'Jean', 'Agne', 'Clara', 'Elizabeth', 'Alice', 'Amelia', 'Marion', 'Mary', 'Elsie', 'Annie', 'Mar', 'Helen', 'Catherine', 'Anna', 'Mantoura', 'Anni', 'Stina', 'Leila', 'Aurora', 'Rosali', '\"Mary\"', 'Mary', 'Kat', 'Berth', 'Marjori', 'Agnes', 'Elin', 'Jessie', 'Mari', 'Marij', 'Id', 'Daisy', 'Annie', 'Lulu', 'Lyyli', 'Catharin', 'Anna', 'Ada', '\"Mrs', 'Florence', 'Alice', 'Lucile', 'Doolina', 'Emily', 'Esther', 'Madeleine', 'Marie', 'Marion', 'Elle', 'Helene', 'Ada', 'Marie', 'Ida', 'Hildur', 'Hedwig', 'Jeanni', 'Jane', 'Elizabeth', 'Bessie', 'Mar', 'Bridget', 'Kristina', 'Robert', 'Jane', 'Elizabeth', 'Amelia', 'Florence', 'Ann', 'Ida', 'Luc', 'Phyllis', 'Catherine', 'Marij', 'Eva', 'Berth', 'Hedwig', 'Harriet', 'Ingeborg', 'Sigrid', 'Ethel', 'Veli', 'Tillie', 'Emma', 'Marion', 'Alma', 'Charlotte', 'Mar', 'Ethe', 'Alice', 'Maria', 'Julie', 'Marian', 'Rut', 'Martha', 'Mar', 'Jessie', 'Amy', 'Juliette', 'Elizabeth', 'Alfrida', 'Margaret', 'Alic', 'Cordelia', 'Marion', 'Gretchen', 'Mabe', 'Mar', 'Maria', 'Margit', 'Eugeni', 'Amy', 'Elsi', 'Hanora', 'Hanora', 'Catherine', 'Juliet', 'Elizabeth', 'Anna', 'Augusta', 'Kati', 'Georgette', 'Manc', 'Katherine', 'Madeleine', 'Saiid', 'Florence', 'Alic', 'Caroline', 'Edwina', 'Annie', 'Lillian', 'Margaret', 'Pieta', 'Elisabeth', 'Margaret', 'Susan', 'Ann', 'Joa', 'Jane', 'Lucile', 'Anna', 'Mar', 'Mary', 'Eliza', 'Virginia', 'Elisabeth', 'Banour', 'Vera', 'Anna', 'Stella', 'Mar', 'Rosalie', 'Charlotte', 'Ellen', 'Bertha', 'Ebba', 'Wendla', 'Clara', 'Beila', 'Martha', 'Selini', 'Sara', 'August', 'Edwiga', 'Nourelai', 'Mary', 'Lilian', 'Leah', 'Mary', 'Latifa', 'Margaret', 'Dorothy', 'Karolina', 'Asuncio', 'Sallie', 'Hannah', 'Adele', 'Lily', 'Imanita', 'Gerda', 'Margaret', 'Margaret', 'Catherine']\n",
      "[('Lain', 1), ('Marguerite', 1), ('Hulda', 1), ('Emelia', 1), ('Fatim', 1), ('Torborg', 1), ('Selma', 1), ('Jamil', 1), ('Simonne', 1), ('Bridge', 1), ('Josefine', 1), ('Myna', 1), ('Emil', 1), ('Erna', 1), ('Brigdet', 1), ('Mabel', 1), ('Matild', 1), ('Hilen', 1), ('Katriin', 1), ('Malak', 1), ('Ellis', 1), ('Susa', 1), ('Grace', 1), ('Mathilde', 1), ('Sultana', 1), ('Robina', 1), ('Eleanor', 1), ('Luise', 1), ('Carla', 1), ('Elis', 1), ('Telma', 1), ('Clear', 1), ('Madelein', 1), ('Eliin', 1), ('Albin', 1), ('Mathild', 1), ('Irene', 1), ('Marjorie', 1), ('Thamin', 1), ('Agda', 1), ('Elna', 1), ('Helena', 1), ('Hanne', 1), ('Gertrude', 1), ('Glady', 1), ('Lutie', 1), ('Deli', 1), ('Kornelia', 1), ('Aloisi', 1), ('Nora', 1), ('Margare', 1), ('Laura', 1), ('Helmina', 1), ('Miriam', 1), ('Margaretta', 1), ('Hilda', 1), ('Sylvia', 1), ('Jean', 1), ('Agne', 1), ('Elsie', 1), ('Mantoura', 1), ('Anni', 1), ('Stina', 1), ('Leila', 1), ('Aurora', 1), ('Rosali', 1), ('\"Mary\"', 1), ('Marjori', 1), ('Agnes', 1), ('Mari', 1), ('Id', 1), ('Daisy', 1), ('Lulu', 1), ('Lyyli', 1), ('Catharin', 1), ('Doolina', 1), ('Esther', 1), ('Elle', 1), ('Hildur', 1), ('Jeanni', 1), ('Bessie', 1), ('Bridget', 1), ('Kristina', 1), ('Robert', 1), ('Luc', 1), ('Phyllis', 1), ('Eva', 1), ('Harriet', 1), ('Ingeborg', 1), ('Sigrid', 1), ('Ethel', 1), ('Veli', 1), ('Tillie', 1), ('Emma', 1), ('Alma', 1), ('Ethe', 1), ('Julie', 1), ('Marian', 1), ('Rut', 1), ('Juliette', 1), ('Alfrida', 1), ('Cordelia', 1), ('Gretchen', 1), ('Mabe', 1), ('Margit', 1), ('Eugeni', 1), ('Elsi', 1), ('Juliet', 1), ('Kati', 1), ('Georgette', 1), ('Manc', 1), ('Saiid', 1), ('Caroline', 1), ('Edwina', 1), ('Pieta', 1), ('Susan', 1), ('Joa', 1), ('Eliza', 1), ('Virginia', 1), ('Banour', 1), ('Vera', 1), ('Stella', 1), ('Rosalie', 1), ('Bertha', 1), ('Ebba', 1), ('Wendla', 1), ('Beila', 1), ('Selini', 1), ('Sara', 1), ('August', 1), ('Edwiga', 1), ('Nourelai', 1), ('Lilian', 1), ('Leah', 1), ('Latifa', 1), ('Karolina', 1), ('Asuncio', 1), ('Sallie', 1), ('Hannah', 1), ('Imanita', 1), ('Gerda', 1), ('olo', 2), ('Lily', 2), ('Adele', 2), ('Elizabet', 2), ('Johanna', 2), ('Dorothy', 2), ('Constance', 2), ('Ameli', 2), ('Elin', 2), ('Rosa', 2), ('\"Mrs', 2), ('Kat', 2), ('Helene', 2), ('Clara', 2), ('Amelia', 2), ('Jessie', 2), ('Marij', 2), ('Lucile', 2), ('Madeleine', 2), ('Ida', 2), ('Hedwig', 2), ('Charlotte', 2), ('Martha', 2), ('Amy', 2), ('Alic', 2), ('Elisabeth', 3), ('Ellen', 3), ('Augusta', 3), ('Lillian', 3), ('Edith', 3), ('Katherine', 3), ('Hanora', 3), ('Emily', 3), ('Annie', 3), ('Jane', 3), ('Florence', 4), ('Marie', 4), ('Berth', 4), ('Maria', 4), ('Ada', 4), ('Alice', 4), ('Marion', 4), ('Catherine', 4), ('Ann', 5), ('Helen', 5), ('Mar', 7), ('Mary', 8), ('Elizabeth', 9), ('Margaret', 10), ('Anna', 12)]\n"
     ]
    }
   ],
   "source": [
    "# Какое самое популярное женское имя на корабле?\n",
    "# Извлеките из полного имени пассажира (колонка Name) его личное имя (First Name).\n",
    "# Это задание — типичный пример того, с чем сталкивается специалист по анализу данных.\n",
    "# Данные очень разнородные и шумные, но из них требуется извлечь необходимую информацию.\n",
    "# Попробуйте вручную разобрать несколько значений столбца Name и\n",
    "# выработать правило для извлечения имен, а также разделения их на женские и мужские.\n",
    "i = 0\n",
    "res = data['Name']\n",
    "list_name = []\n",
    "for name_row in res:\n",
    "    is_woman = (\"Miss.\" in name_row) or (\"Mrs.\" in name_row)\n",
    "    if is_woman:\n",
    "        index_brace = name_row.find(\"(\")\n",
    "        if index_brace != -1:\n",
    "            name_row = name_row[index_brace + 1:]\n",
    "            index_space = name_row.find(\" \")\n",
    "            name_row = name_row[:index_space]\n",
    "            list_name.append(name_row)\n",
    "        else:\n",
    "            index_point = name_row.find(\".\")\n",
    "            name_row = name_row[index_point + 2:]\n",
    "            index_space = name_row.find(\" \")\n",
    "            name_row = name_row[:index_space]\n",
    "            list_name.append(name_row)\n",
    "           # print(name_row)\n",
    "        i += 1\n",
    "        # print(res)\n",
    "print(list_name)\n",
    "dict_name = {}\n",
    "dict_name[\"olo\"] = 2\n",
    "a = dict_name.get(\"olo\")\n",
    "for name in list_name:\n",
    "    value = dict_name.get(name)\n",
    "    if value is None:\n",
    "        dict_name[name] = 1\n",
    "    else:\n",
    "        dict_name[name] = value + 1\n",
    "sorted_x = sorted(dict_name.items(), key=operator.itemgetter(1))\n",
    "print(sorted_x)"
   ]
  }
 ],
 "metadata": {
  "kernelspec": {
   "display_name": "Python 3",
   "language": "python",
   "name": "python3"
  },
  "language_info": {
   "codemirror_mode": {
    "name": "ipython",
    "version": 3
   },
   "file_extension": ".py",
   "mimetype": "text/x-python",
   "name": "python",
   "nbconvert_exporter": "python",
   "pygments_lexer": "ipython3",
   "version": "3.8.5"
  }
 },
 "nbformat": 4,
 "nbformat_minor": 5
}
