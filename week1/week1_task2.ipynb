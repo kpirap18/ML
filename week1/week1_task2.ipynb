{
 "cells": [
  {
   "cell_type": "code",
   "execution_count": 1,
   "id": "armed-incidence",
   "metadata": {},
   "outputs": [],
   "source": [
    "import pandas\n",
    "import numpy as np\n",
    "from sklearn.tree import DecisionTreeClassifier"
   ]
  },
  {
   "cell_type": "code",
   "execution_count": 10,
   "id": "pleased-motorcycle",
   "metadata": {},
   "outputs": [],
   "source": [
    "# Загрузите выборку из файла titanic.csv с помощью пакета Pandas.\n",
    "data = pandas.read_csv('titanic.csv', index_col='PassengerId')"
   ]
  },
  {
   "cell_type": "code",
   "execution_count": 3,
   "id": "competent-retail",
   "metadata": {},
   "outputs": [],
   "source": [
    "# Оставьте в выборке четыре признака: класс пассажира (Pclass), це-\n",
    "# ну билета (Fare), возраст пассажира (Age) и его пол (Sex).\n",
    "a = [list(data['Pclass']), list(data['Fare']), list(data['Age']), list(data['Sex'])]"
   ]
  },
  {
   "cell_type": "code",
   "execution_count": 11,
   "id": "functional-sodium",
   "metadata": {},
   "outputs": [],
   "source": [
    "# Обратите внимание, что признак Sex имеет строковые значения.\n",
    "for i in range(len(a[3])):\n",
    "    if a[3][i] == 'male':\n",
    "        a[3][i] = 0\n",
    "    elif a[3][i] == 'female':\n",
    "        a[3][i] = 1"
   ]
  },
  {
   "cell_type": "code",
   "execution_count": 5,
   "id": "aggressive-fusion",
   "metadata": {},
   "outputs": [],
   "source": [
    "# Выделите целевую переменную — она записана в столбце Survived.\n",
    "x_vybor = list(data['Survived'])"
   ]
  },
  {
   "cell_type": "code",
   "execution_count": 6,
   "id": "tribal-consistency",
   "metadata": {},
   "outputs": [],
   "source": [
    "# В данных есть пропущенные значения — например, для некоторых\n",
    "# пассажиров неизвестен их возраст. Такие записи при чтении их в\n",
    "# pandas принимают значение nan. Найдите все объекты, у которых\n",
    "# есть пропущенные признаки, и удалите их из выборки.\n",
    "index_del = []\n",
    "for i in range(len(a)):\n",
    "    for j in range(len(a[i])):\n",
    "        if (np.isnan(a[i][j])):\n",
    "            index_del.append(j)\n",
    "\n",
    "k = set(index_del)\n"
   ]
  },
  {
   "cell_type": "code",
   "execution_count": 7,
   "id": "declared-breast",
   "metadata": {},
   "outputs": [],
   "source": [
    "X = []\n",
    "for j in range(len(a[1])):\n",
    "    if j not in k:\n",
    "        X.append([a[0][j], a[1][j], a[2][j], a[3][j]])\n"
   ]
  },
  {
   "cell_type": "code",
   "execution_count": 8,
   "id": "entertaining-equipment",
   "metadata": {},
   "outputs": [],
   "source": [
    "y = []\n",
    "for i in range(len(x_vybor)):\n",
    "    if i not in k:\n",
    "        y.append(x_vybor[i])\n"
   ]
  },
  {
   "cell_type": "code",
   "execution_count": 9,
   "id": "august-september",
   "metadata": {},
   "outputs": [
    {
     "data": {
      "text/plain": [
       "array([0.14751816, 0.29538468, 0.25658495, 0.30051221])"
      ]
     },
     "execution_count": 9,
     "metadata": {},
     "output_type": "execute_result"
    }
   ],
   "source": [
    "\n",
    "clf = DecisionTreeClassifier(random_state=241)\n",
    "clf.fit(X, y)\n",
    "res = (clf.feature_importances_)\n",
    "res"
   ]
  },
  {
   "cell_type": "code",
   "execution_count": null,
   "id": "scheduled-entertainment",
   "metadata": {},
   "outputs": [],
   "source": []
  }
 ],
 "metadata": {
  "kernelspec": {
   "display_name": "Python 3",
   "language": "python",
   "name": "python3"
  },
  "language_info": {
   "codemirror_mode": {
    "name": "ipython",
    "version": 3
   },
   "file_extension": ".py",
   "mimetype": "text/x-python",
   "name": "python",
   "nbconvert_exporter": "python",
   "pygments_lexer": "ipython3",
   "version": "3.8.5"
  }
 },
 "nbformat": 4,
 "nbformat_minor": 5
}
