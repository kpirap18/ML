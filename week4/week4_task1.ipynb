{
 "cells": [
  {
   "cell_type": "code",
   "execution_count": 20,
   "id": "removable-usage",
   "metadata": {},
   "outputs": [],
   "source": [
    "from sklearn.feature_extraction.text import TfidfVectorizer\n",
    "from sklearn.feature_extraction import DictVectorizer\n",
    "from sklearn.linear_model import Ridge\n",
    "import pandas as pd\n",
    "from scipy.sparse import hstack"
   ]
  },
  {
   "cell_type": "code",
   "execution_count": 21,
   "id": "polyphonic-tribe",
   "metadata": {},
   "outputs": [],
   "source": [
    "# Загрузите данные об описаниях вакансий и соответствующих \n",
    "# годовых зарплатах из файла salary-train.csv.\n",
    "data_train = pd.read_csv('salary-train.csv')\n",
    "data_test = pd.read_csv('salary-test-mini.csv')"
   ]
  },
  {
   "cell_type": "code",
   "execution_count": 32,
   "id": "correct-pantyhose",
   "metadata": {},
   "outputs": [],
   "source": [
    "# Проведите предобработку:\n",
    "# • Приведите тексты к нижнему регистру.\n",
    "# • Замените все, кроме букв и цифр, на пробелы — это облегчит\n",
    "# дальнейшее разделение текста на слова. Для такой замены в\n",
    "# строке text подходит следующий вызов:\n",
    "# re.sub('[^a-zA-Z0-9]', ' ', text)\n",
    "data_train['FullDescription'].replace('[^a-zA-Z0-9]', ' ',\n",
    "                                      regex = True,inplace=True)\n",
    "data_test['FullDescription'].replace('[^a-zA-Z0-9]', ' ',\n",
    "                                      regex = True,inplace=True)\n",
    "\n",
    "# • Примените TfidfVectorizer для преобразования текстов в векторы\n",
    "# признаков. Оставьте только те слова, которые встречаются хотя \n",
    "# бы в 5 объектах (параметр min_df у TfidfVectorizer).\n",
    "vectorizer = TfidfVectorizer(min_df = 5)\n",
    "fullDescription_train=vectorizer.fit_transform(data_train['FullDescription'])\n",
    "fullDescription_test=vectorizer.transform(data_test['FullDescription'])\n",
    "\n",
    "# • Замените пропуски в столбцах LocationNormalized и ContractTime \n",
    "# на специальную строку ’nan’. Код для этого был приведен выше.\n",
    "data_train['LocationNormalized'].fillna('nan', inplace=True)\n",
    "data_train['ContractTime'].fillna('nan', inplace=True)\n",
    "\n",
    "# • Примените DictVectorizer для получения one-hot-кодирования\n",
    "# признаков LocationNormalized и ContractTime.\n",
    "enc = DictVectorizer()\n",
    "X_train_categ = enc.fit_transform(data_train[['LocationNormalized', \n",
    "                                              'ContractTime']].to_dict('records'))\n",
    "X_test_categ = enc.transform(data_test[['LocationNormalized', \n",
    "                                              'ContractTime']].to_dict('records'))\n",
    "\n",
    "# • Объедините все полученные признаки в одну матрицу \"объектыпризнаки\". \n",
    "# Обратите внимание, что матрицы для текстов и\n",
    "# категориальных признаков являются разреженными. \n",
    "# Для объединения их столбцов нужно воспользоваться\n",
    "# функцией scipy.sparse.hstack\n",
    "joinedMatrix_train = hstack([fullDescription_train, X_train_categ])\n"
   ]
  },
  {
   "cell_type": "code",
   "execution_count": 33,
   "id": "specified-wyoming",
   "metadata": {},
   "outputs": [
    {
     "data": {
      "text/plain": [
       "Ridge(random_state=241)"
      ]
     },
     "execution_count": 33,
     "metadata": {},
     "output_type": "execute_result"
    }
   ],
   "source": [
    "# Обучите гребневую регрессию с параметром alpha=1. \n",
    "# Целевая переменная записана в столбце SalaryNormalized.\n",
    "clf = Ridge(alpha=1.0,random_state=241)\n",
    "clf.fit(joinedMatrix_train, data_train['SalaryNormalized'])"
   ]
  },
  {
   "cell_type": "code",
   "execution_count": 34,
   "id": "diverse-cloud",
   "metadata": {},
   "outputs": [],
   "source": [
    "# Постройте прогнозы для двух примеров из файла salary-test-mini.csv.\n",
    "# Значения полученных прогнозов являются ответом на задание. \n",
    "# Укажите их через пробел.\n",
    "joinedMatrix_test=hstack([fullDescription_test,X_test_categ])\n",
    "predict=clf.predict(joinedMatrix_test)"
   ]
  },
  {
   "cell_type": "code",
   "execution_count": 35,
   "id": "sublime-separation",
   "metadata": {},
   "outputs": [
    {
     "name": "stdout",
     "output_type": "stream",
     "text": [
      "Прогноз по зарплате\n",
      "56574.07 37139.25\n"
     ]
    }
   ],
   "source": [
    "print('Прогноз по зарплате')\n",
    "print (' '.join(map(lambda x: str(round(x,2)), predict)))"
   ]
  },
  {
   "cell_type": "code",
   "execution_count": null,
   "id": "reasonable-eugene",
   "metadata": {},
   "outputs": [],
   "source": []
  }
 ],
 "metadata": {
  "kernelspec": {
   "display_name": "Python 3",
   "language": "python",
   "name": "python3"
  },
  "language_info": {
   "codemirror_mode": {
    "name": "ipython",
    "version": 3
   },
   "file_extension": ".py",
   "mimetype": "text/x-python",
   "name": "python",
   "nbconvert_exporter": "python",
   "pygments_lexer": "ipython3",
   "version": "3.8.5"
  }
 },
 "nbformat": 4,
 "nbformat_minor": 5
}
