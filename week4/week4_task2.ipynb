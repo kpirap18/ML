{
 "cells": [
  {
   "cell_type": "code",
   "execution_count": 1,
   "id": "nominated-disposition",
   "metadata": {},
   "outputs": [],
   "source": [
    "import pandas as pd\n",
    "from sklearn.decomposition import PCA\n",
    "from numpy import corrcoef"
   ]
  },
  {
   "cell_type": "code",
   "execution_count": 2,
   "id": "separate-might",
   "metadata": {},
   "outputs": [],
   "source": [
    "# Загрузите данные close_prices.csv. В этом файле приведены цены акций\n",
    "# 30 компаний на закрытии торгов за каждый день периода.\n",
    "data_train=pd.read_csv('close_prices.csv')"
   ]
  },
  {
   "cell_type": "code",
   "execution_count": 3,
   "id": "adverse-singer",
   "metadata": {},
   "outputs": [],
   "source": [
    "# На загруженных данных обучите преобразование PCA с числом компоненты равным 10.\n",
    "# Скольких компонент хватит, чтобы объяснить 90% дисперсии?\n",
    "\n",
    "pca = PCA(n_components=10)\n",
    "result=pca.fit(data_train.iloc[:,1:31])#берем все колонки с числовыми данными кроме даты\n",
    "\n",
    "variance_ratio=result.explained_variance_ratio_#содержит процент дисперсии, который объясняет каждая компонента, массив, отсортирован в порядке убывания процента дисперсии\n",
    "components=result.components_#содержит информацию о том, какой вклад вносят признаки в компоненты."
   ]
  },
  {
   "cell_type": "code",
   "execution_count": 4,
   "id": "disabled-weekly",
   "metadata": {},
   "outputs": [
    {
     "name": "stdout",
     "output_type": "stream",
     "text": [
      "Скольких компонент хватит, чтобы объяснить 90% дисперсии?\n",
      "4\n"
     ]
    }
   ],
   "source": [
    "#Вычисляем  сколько компонент достаточно, чтобы покрыть 90% дисперсии\n",
    "componentCount=1\n",
    "while sum(variance_ratio[:componentCount])<0.9:\n",
    "    componentCount+=1\n",
    "\n",
    "print('Скольких компонент хватит, чтобы объяснить 90% дисперсии?')\n",
    "print(componentCount)"
   ]
  },
  {
   "cell_type": "code",
   "execution_count": 5,
   "id": "juvenile-silence",
   "metadata": {},
   "outputs": [],
   "source": [
    "# Примените построенное преобразование к исходным данным и возьмите значения первой компоненты.\n",
    "\n",
    "result=pca.transform(data_train.iloc[:,1:31])\n",
    "firstComponent=result[:,0]#берет первую колонку"
   ]
  },
  {
   "cell_type": "code",
   "execution_count": 6,
   "id": "attempted-utilization",
   "metadata": {},
   "outputs": [
    {
     "name": "stdout",
     "output_type": "stream",
     "text": [
      "Чему равна корреляция Пирсона между первой компонентой и индексом Доу-Джонса?\n",
      "0.91\n"
     ]
    }
   ],
   "source": [
    "# Загрузите информацию об индексе Доу-Джонса из файла djia_index.csv.\n",
    "# Чему равна корреляция Пирсона между первой компонентой и индексом Доу-Джонса?\n",
    "\n",
    "data_test=pd.read_csv('djia_index.csv')\n",
    "data_test_y=data_test.iloc[:,1]#берем значимую колонку\n",
    "\n",
    "pearsonCoefficients=corrcoef(firstComponent,data_test_y)\n",
    "print('Чему равна корреляция Пирсона между первой компонентой и индексом Доу-Джонса?')\n",
    "print(round(pearsonCoefficients[0,1],2))"
   ]
  },
  {
   "cell_type": "code",
   "execution_count": 7,
   "id": "permanent-polyester",
   "metadata": {},
   "outputs": [
    {
     "name": "stdout",
     "output_type": "stream",
     "text": [
      "Какая компания имеет наибольший вес в первой компоненте?\n",
      "V\n"
     ]
    }
   ],
   "source": [
    "# Какая компания имеет наибольший вес в первой компоненте? Укажите ее название с большой буквы.\n",
    "\n",
    "firstComponent=pd.DataFrame(data=components[0])\n",
    "brandIndex=firstComponent.idxmax()[0]+1#индекс компании с максимальным весом, добавляем единицу, поскольку первый столбец - даты\n",
    "\n",
    "print('Какая компания имеет наибольший вес в первой компоненте?')\n",
    "print(data_train.columns[brandIndex])"
   ]
  }
 ],
 "metadata": {
  "kernelspec": {
   "display_name": "Python 3",
   "language": "python",
   "name": "python3"
  },
  "language_info": {
   "codemirror_mode": {
    "name": "ipython",
    "version": 3
   },
   "file_extension": ".py",
   "mimetype": "text/x-python",
   "name": "python",
   "nbconvert_exporter": "python",
   "pygments_lexer": "ipython3",
   "version": "3.8.5"
  }
 },
 "nbformat": 4,
 "nbformat_minor": 5
}
