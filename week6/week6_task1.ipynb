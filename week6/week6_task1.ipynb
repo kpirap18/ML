{
 "cells": [
  {
   "cell_type": "code",
   "execution_count": 28,
   "id": "fleet-puzzle",
   "metadata": {},
   "outputs": [],
   "source": [
    "from skimage.io import imread\n",
    "from skimage import img_as_float\n",
    "import pylab\n",
    "from sklearn.cluster import KMeans\n",
    "import pandas as pd\n",
    "from math import log10"
   ]
  },
  {
   "cell_type": "code",
   "execution_count": 29,
   "id": "proper-antique",
   "metadata": {},
   "outputs": [],
   "source": [
    "# Загрузите картинку parrots.jpg. Преобразуйте изображение, \n",
    "# приведя все значения в интервал от 0 до 1. Для этого можно \n",
    "# воспользоваться функцией img_as_float из модуля skimage.\n",
    "# Обратите внимание на этот шаг, так как при работе с исходным \n",
    "# изображением вы получите некорректный результат.\n",
    "\n",
    "image = imread(\"parrots.jpg\")\n",
    "# pylab.imshow(image)"
   ]
  },
  {
   "cell_type": "code",
   "execution_count": 30,
   "id": "australian-nightmare",
   "metadata": {},
   "outputs": [],
   "source": [
    "img_float = img_as_float(image)\n",
    "# img_float"
   ]
  },
  {
   "cell_type": "code",
   "execution_count": 31,
   "id": "coated-soccer",
   "metadata": {},
   "outputs": [],
   "source": [
    "# Создайте матрицу объекты-признаки: характеризуйте каждый пиксель\n",
    "# тремя координатами - значениями интенсивности в пространстве RGB.\n",
    "\n",
    "img_matrix = {}\n",
    "i = 0\n",
    "for x in range(len(img_float)):\n",
    "    for y in range(len(img_float)):\n",
    "        img_matrix[i] = img_float[x][y]\n",
    "        i += 1\n",
    "# img_matrix"
   ]
  },
  {
   "cell_type": "code",
   "execution_count": 32,
   "id": "usual-explosion",
   "metadata": {},
   "outputs": [],
   "source": [
    "X_train = pd.DataFrame(img_matrix).transpose()\n",
    "X_train.columns = [\"R\", \"G\", \"B\"]\n",
    "reall = X_train.copy()"
   ]
  },
  {
   "cell_type": "code",
   "execution_count": 37,
   "id": "after-atmosphere",
   "metadata": {},
   "outputs": [],
   "source": [
    "# Запустите алгоритм K-Means с параметрами init='k-means++' и random_state=241.\n",
    "# После выделения кластеров все пиксели, отнесенные в один кластер, попробуйте заполнить двумя способами:\n",
    "# медианным и средним цветом по кластеру.\n",
    "\n",
    "def PSNR(X, X_train_real):\n",
    "    m = 0\n",
    "    for col in X_train_real.columns:\n",
    "        m += ((X[col] - X_train_real[col])**2).sum()\n",
    "    m /= len(X_train_real) * 3\n",
    "    \n",
    "    return 10 * log10(1 / m)"
   ]
  },
  {
   "cell_type": "code",
   "execution_count": 39,
   "id": "developing-disclaimer",
   "metadata": {},
   "outputs": [
    {
     "name": "stdout",
     "output_type": "stream",
     "text": [
      "Clusters count 1, psnrMedian=9.517311, psnrMean=10.004023\n",
      "Clusters count 2, psnrMedian=11.907260, psnrMean=12.285052\n",
      "Clusters count 3, psnrMedian=13.173261, psnrMean=13.639986\n",
      "Clusters count 4, psnrMedian=14.341385, psnrMean=14.848330\n",
      "Clusters count 5, psnrMedian=15.513345, psnrMean=16.087328\n",
      "Clusters count 6, psnrMedian=16.494179, psnrMean=17.186362\n",
      "Clusters count 7, psnrMedian=17.913883, psnrMean=18.213271\n",
      "Clusters count 8, psnrMedian=18.803852, psnrMean=19.037773\n",
      "Clusters count 9, psnrMedian=19.387685, psnrMean=19.584089\n",
      "Clusters count 10, psnrMedian=19.899284, psnrMean=20.113454\n"
     ]
    }
   ],
   "source": [
    "for c in range(21):\n",
    "    X_train = reall.copy()\n",
    "    max_c = c + 1\n",
    "    \n",
    "    cls = KMeans(init = 'k-means++', random_state = 241, n_clusters = max_c)\n",
    "    kmeans = cls.fit(X_train)\n",
    "    \n",
    "    X_train['cluster'] = kmeans.labels_\n",
    "    X_train.set_index('cluster', inplace=True)\n",
    "    X_train2 = X_train.copy()\n",
    "    X_train_real = X_train.copy()\n",
    "    \n",
    "    for cluster in range(max_c):\n",
    "        for col in X_train.columns:\n",
    "            median=X_train.loc[cluster,col].median()#считаем медиану интенсивности по кластеру\n",
    "            X_train.loc[cluster,col]=median\n",
    "\n",
    "            mean=X_train2.loc[cluster,col].mean()#считаем среднее интенсивности по кластеру\n",
    "            X_train2.loc[cluster,col]=mean\n",
    "    \n",
    "    psnrMedian=PSNR(X_train,X_train_real)\n",
    "    psnrMean=PSNR(X_train2,X_train_real)\n",
    "\n",
    "    print(\"Clusters count %d, psnrMedian=%f, psnrMean=%f\" % (max_c,psnrMedian,psnrMean))\n",
    "    if (psnrMedian>=20) | (psnrMean>=20): break"
   ]
  },
  {
   "cell_type": "code",
   "execution_count": null,
   "id": "greatest-assembly",
   "metadata": {},
   "outputs": [],
   "source": []
  }
 ],
 "metadata": {
  "kernelspec": {
   "display_name": "Python 3",
   "language": "python",
   "name": "python3"
  },
  "language_info": {
   "codemirror_mode": {
    "name": "ipython",
    "version": 3
   },
   "file_extension": ".py",
   "mimetype": "text/x-python",
   "name": "python",
   "nbconvert_exporter": "python",
   "pygments_lexer": "ipython3",
   "version": "3.8.5"
  }
 },
 "nbformat": 4,
 "nbformat_minor": 5
}
