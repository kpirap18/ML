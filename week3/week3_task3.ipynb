{
 "cells": [
  {
   "cell_type": "code",
   "execution_count": 21,
   "id": "potential-dictionary",
   "metadata": {},
   "outputs": [],
   "source": [
    "import pandas as pd\n",
    "from math import exp\n",
    "from scipy.spatial import distance\n",
    "from sklearn.metrics import roc_auc_score"
   ]
  },
  {
   "cell_type": "code",
   "execution_count": 22,
   "id": "mental-hydrogen",
   "metadata": {},
   "outputs": [],
   "source": [
    "def GradientDescent(C,data):\n",
    "    print('C=%d' %C)\n",
    "    errorAccuracy=10**-5\n",
    "    weights=[0.,0.]\n",
    "    k=0.1#длина шага\n",
    "    l=data[0].count()#количество элементов в выборке\n",
    "    distance_euclidean=0\n",
    "\n",
    "    weightsDelta=[0.,0.]\n",
    "    for step in range(10000):#Рекомендуется ограничить сверху число итераций десятью тысячами.\n",
    "        oldweightsDelta=weightsDelta\n",
    "        weightsDelta=[0.,0.]\n",
    "\n",
    "        for obj in data.values:\n",
    "            y=obj[0]\n",
    "            gradient=y*(1-1/(1+exp(-y*(weights[0]*obj[1]+weights[1]*obj[2]))))\n",
    "            weightsDelta=list(map(lambda w,wd,x: wd+x*gradient-k*C*w,weights,weightsDelta,obj[1:]))\n",
    "\n",
    "        #доведите до сходимости (евклидово расстояние между векторами весов на соседних итерациях должно быть не больше 1e-5)\n",
    "        distance_euclidean=distance.euclidean(weightsDelta,oldweightsDelta)\n",
    "        if distance_euclidean<errorAccuracy:\n",
    "            print('Дошли до заданной ошибки точности на шаге: %d' % step)\n",
    "            break\n",
    "\n",
    "        weights=list(map(lambda w,wd: w+wd*k/l,weights,weightsDelta))\n",
    "\n",
    "    print('Евклидово расстояние=%.6f' %distance_euclidean)\n",
    "    return weights\n",
    " "
   ]
  },
  {
   "cell_type": "code",
   "execution_count": 23,
   "id": "respected-absence",
   "metadata": {},
   "outputs": [],
   "source": [
    "def GetAUC_ROC(C,data):\n",
    "    weights=GradientDescent(C,data)\n",
    "    y_true = list(map(lambda y: 0 if y<0 else 1 ,data[0].values))#Класс объекта\n",
    "    X_train = data.loc[:, 1:]#Характеристики объектов\n",
    "\n",
    "    y_scores=list(map(lambda x: 1 / (1 + exp(-weights[0]*x[0] - weights[1]*x[1])) ,X_train.values))\n",
    "    aUC_ROC=roc_auc_score(y_true, y_scores)\n",
    "    print ('AUC_ROC=%.3f' % round(aUC_ROC,3))\n",
    "    print('-----')\n",
    "    return round(aUC_ROC,3)\n",
    "\n"
   ]
  },
  {
   "cell_type": "code",
   "execution_count": 24,
   "id": "unable-landscape",
   "metadata": {},
   "outputs": [
    {
     "name": "stdout",
     "output_type": "stream",
     "text": [
      "C=0\n",
      "Дошли до заданной ошибки точности на шаге: 406\n",
      "Евклидово расстояние=0.000010\n",
      "AUC_ROC=0.927\n",
      "-----\n",
      "C=2\n",
      "Дошли до заданной ошибки точности на шаге: 227\n",
      "Евклидово расстояние=0.000010\n",
      "AUC_ROC=0.934\n",
      "-----\n",
      "Ответ\n",
      "0.927 0.934\n"
     ]
    }
   ],
   "source": [
    "data= pd.read_csv('data-logistic.csv',header=None)\n",
    "#выводим ответ\n",
    "answ=[]\n",
    "answ.append(GetAUC_ROC(0,data))\n",
    "answ.append(GetAUC_ROC(2,data))\n",
    "\n",
    "print ('Ответ')\n",
    "print (' '.join(map(lambda x: str(x), answ)))"
   ]
  }
 ],
 "metadata": {
  "kernelspec": {
   "display_name": "Python 3",
   "language": "python",
   "name": "python3"
  },
  "language_info": {
   "codemirror_mode": {
    "name": "ipython",
    "version": 3
   },
   "file_extension": ".py",
   "mimetype": "text/x-python",
   "name": "python",
   "nbconvert_exporter": "python",
   "pygments_lexer": "ipython3",
   "version": "3.8.5"
  }
 },
 "nbformat": 4,
 "nbformat_minor": 5
}
