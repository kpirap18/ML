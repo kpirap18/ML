{
 "cells": [
  {
   "cell_type": "code",
   "execution_count": 5,
   "id": "desirable-package",
   "metadata": {},
   "outputs": [],
   "source": [
    "from sklearn import datasets\n",
    "from sklearn.feature_extraction.text import TfidfVectorizer\n",
    "from sklearn.model_selection import GridSearchCV, KFold\n",
    "from sklearn.svm import SVC\n",
    "import numpy as np\n",
    "import pandas as pd"
   ]
  },
  {
   "cell_type": "code",
   "execution_count": 2,
   "id": "dried-spring",
   "metadata": {},
   "outputs": [
    {
     "data": {
      "text/plain": [
       "GridSearchCV(cv=KFold(n_splits=5, random_state=241, shuffle=True),\n",
       "             estimator=SVC(kernel='linear', random_state=241),\n",
       "             param_grid={'C': array([1.e-05, 1.e-04, 1.e-03, 1.e-02, 1.e-01, 1.e+00, 1.e+01, 1.e+02,\n",
       "       1.e+03, 1.e+04, 1.e+05])},\n",
       "             scoring='accuracy')"
      ]
     },
     "execution_count": 2,
     "metadata": {},
     "output_type": "execute_result"
    }
   ],
   "source": [
    "import pandas as pd\n",
    "\n",
    "import numpy as np\n",
    "\n",
    "from sklearn import datasets\n",
    "\n",
    "newsgroups=datasets.fetch_20newsgroups(subset='all', categories=['alt.atheism', 'sci.space'])\n",
    "\n",
    "from sklearn.feature_extraction.text import TfidfVectorizer\n",
    "\n",
    "vectorizer=TfidfVectorizer()\n",
    "\n",
    "X=vectorizer.fit_transform(newsgroups.data)\n",
    "\n",
    "y=newsgroups.target\n",
    "\n",
    "from sklearn.svm import SVC\n",
    "\n",
    "from sklearn.model_selection import KFold\n",
    "\n",
    "kf=KFold(n_splits=5, shuffle=True, random_state=241)\n",
    "\n",
    "from sklearn.model_selection import GridSearchCV\n",
    "\n",
    "grid={'C':np.power(10.0,np.arange(-5,6))}\n",
    "\n",
    "clf=SVC(kernel='linear',random_state=241)\n",
    "\n",
    "gs=GridSearchCV(clf,grid, scoring='accuracy',cv=kf)\n",
    "\n",
    "gs.fit(X,y)"
   ]
  },
  {
   "cell_type": "code",
   "execution_count": 3,
   "id": "acknowledged-arkansas",
   "metadata": {},
   "outputs": [
    {
     "name": "stdout",
     "output_type": "stream",
     "text": [
      "['atheism', 'atheists', 'bible', 'god', 'keith', 'moon', 'religion', 'sci', 'sky', 'space']\n"
     ]
    }
   ],
   "source": [
    "bestC=gs.best_estimator_.C\n",
    "\n",
    "clf2=SVC(kernel='linear',C=1.0, random_state=241)\n",
    "\n",
    "clf2.fit(X,y)\n",
    "\n",
    "coef=clf2.coef_\n",
    "\n",
    "q=pd.DataFrame(coef.toarray()).transpose()\n",
    "\n",
    "top10=abs(q).sort_values([0], ascending=False).head(10)\n",
    "\n",
    "indices=[]\n",
    "\n",
    "indices=top10.index\n",
    "\n",
    "words=[]\n",
    "\n",
    "for i in indices:\n",
    "\n",
    "    feature_mapping=vectorizer.get_feature_names()\n",
    "\n",
    "    words.append(feature_mapping[i])\n",
    "\n",
    "print(sorted(words))"
   ]
  },
  {
   "cell_type": "code",
   "execution_count": 5,
   "id": "isolated-vancouver",
   "metadata": {},
   "outputs": [
    {
     "name": "stdout",
     "output_type": "stream",
     "text": [
      "atheism atheists bible god keith moon religion sci sky space\n"
     ]
    }
   ],
   "source": [
    "print(\" \".join(sorted(words)))\n"
   ]
  },
  {
   "cell_type": "code",
   "execution_count": null,
   "id": "understood-arthur",
   "metadata": {},
   "outputs": [],
   "source": []
  }
 ],
 "metadata": {
  "kernelspec": {
   "display_name": "Python 3",
   "language": "python",
   "name": "python3"
  },
  "language_info": {
   "codemirror_mode": {
    "name": "ipython",
    "version": 3
   },
   "file_extension": ".py",
   "mimetype": "text/x-python",
   "name": "python",
   "nbconvert_exporter": "python",
   "pygments_lexer": "ipython3",
   "version": "3.8.5"
  }
 },
 "nbformat": 4,
 "nbformat_minor": 5
}
