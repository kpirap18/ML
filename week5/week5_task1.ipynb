{
 "cells": [
  {
   "cell_type": "code",
   "execution_count": 1,
   "id": "tough-drinking",
   "metadata": {},
   "outputs": [],
   "source": [
    "import pandas as pd\n",
    "from sklearn.model_selection import KFold, cross_val_score\n",
    "from sklearn.metrics import r2_score, make_scorer\n",
    "from sklearn.ensemble import RandomForestRegressor"
   ]
  },
  {
   "cell_type": "code",
   "execution_count": 2,
   "id": "spanish-corpus",
   "metadata": {},
   "outputs": [],
   "source": [
    "data = pd.read_csv('abalone.csv')"
   ]
  },
  {
   "cell_type": "code",
   "execution_count": 3,
   "id": "increasing-cruise",
   "metadata": {},
   "outputs": [],
   "source": [
    "# Преобразуйте признак Sex в числовой: значение F \n",
    "# должно перейти в -1, I — в 0, M — в 1.\n",
    "data.Sex = data.Sex.map({'M':1, 'F':-1, 'I':0})"
   ]
  },
  {
   "cell_type": "code",
   "execution_count": 4,
   "id": "quality-clear",
   "metadata": {},
   "outputs": [],
   "source": [
    "#Разделите содержимое файлов на признаки и целевую переменную.\n",
    "#В последнем столбце записана целевая переменная, в остальных — признаки.\n",
    "x_train = data.iloc[:,:-1].values\n",
    "y_train = data.iloc[:,-1:].values.ravel()"
   ]
  },
  {
   "cell_type": "code",
   "execution_count": 6,
   "id": "controversial-input",
   "metadata": {},
   "outputs": [
    {
     "name": "stdout",
     "output_type": "stream",
     "text": [
      "0\n",
      "1\n",
      "2\n",
      "3\n",
      "4\n",
      "5\n",
      "6\n",
      "7\n",
      "8\n",
      "9\n",
      "10\n",
      "11\n",
      "12\n",
      "13\n",
      "14\n",
      "15\n",
      "16\n",
      "17\n",
      "18\n",
      "19\n",
      "20\n",
      "21\n",
      "22\n",
      "23\n",
      "24\n",
      "25\n",
      "26\n",
      "27\n",
      "28\n",
      "29\n",
      "30\n",
      "31\n",
      "32\n",
      "33\n",
      "34\n",
      "35\n",
      "36\n",
      "37\n",
      "38\n",
      "39\n",
      "40\n",
      "41\n",
      "42\n",
      "43\n",
      "44\n",
      "45\n",
      "46\n",
      "47\n",
      "48\n",
      "49\n"
     ]
    }
   ],
   "source": [
    "# Обучите случайный лес (sklearn.ensemble.RandomForestRegressor) с\n",
    "# различным числом деревьев: от 1 до 50 (не забудьте выставить \"random_state=1\" в конструкторе).\n",
    "# Для каждого из вариантов оцените качество работы полученного леса на кросс-валидации по 5 блокам.\n",
    "#\n",
    "# Используйте параметры \"random_state=1\" и \"shuffle=True\" при создании генератора кросс-валидации sklearn.cross_validation.KFold.\n",
    "# В качестве меры качества воспользуйтесь коэффициентом детерминации (sklearn.metrics.r2_score).\n",
    "ms = make_scorer(r2_score)\n",
    "val_test={}\n",
    "\n",
    "kf = KFold(random_state=1, shuffle=True)\n",
    "for n in range(50):\n",
    "    print(n)\n",
    "    n_es = n+1\n",
    "    regressor = RandomForestRegressor(n_es, random_state=1)\n",
    "    scores  = cross_val_score(regressor, x_train, y_train, scoring=ms, cv=kf)\n",
    "    val = scores.mean()\n",
    "    if val > 0.52:\n",
    "        val_test[n_es] = val\n",
    "        "
   ]
  },
  {
   "cell_type": "code",
   "execution_count": 7,
   "id": "forty-bosnia",
   "metadata": {},
   "outputs": [
    {
     "name": "stdout",
     "output_type": "stream",
     "text": [
      "      Scores\n",
      "k           \n",
      "21  0.520529\n",
      "22  0.520804\n",
      "23  0.521743\n",
      "24  0.523106\n",
      "25  0.523249\n"
     ]
    }
   ],
   "source": [
    "val_frame = pd.DataFrame.from_dict(val_test, orient = 'index')\n",
    "val_frame.index.name = 'k'\n",
    "val_frame.columns=['Scores']\n",
    "val_frame.sort_index(ascending=True,inplace=True)\n",
    "print(val_frame.head(5))"
   ]
  }
 ],
 "metadata": {
  "kernelspec": {
   "display_name": "Python 3",
   "language": "python",
   "name": "python3"
  },
  "language_info": {
   "codemirror_mode": {
    "name": "ipython",
    "version": 3
   },
   "file_extension": ".py",
   "mimetype": "text/x-python",
   "name": "python",
   "nbconvert_exporter": "python",
   "pygments_lexer": "ipython3",
   "version": "3.8.5"
  }
 },
 "nbformat": 4,
 "nbformat_minor": 5
}
